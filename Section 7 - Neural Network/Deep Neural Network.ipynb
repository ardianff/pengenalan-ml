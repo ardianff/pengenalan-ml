{
 "cells": [
  {
   "cell_type": "code",
   "execution_count": 1,
   "metadata": {},
   "outputs": [],
   "source": [
    "import tensorflow as tf"
   ]
  },
  {
   "cell_type": "code",
   "execution_count": 2,
   "metadata": {},
   "outputs": [],
   "source": [
    "# define\n",
    "n_inputs = 28*28\n",
    "n_hidden1 = 300\n",
    "n_hidden2 = 100\n",
    "n_outputs = 10"
   ]
  },
  {
   "cell_type": "code",
   "execution_count": 3,
   "metadata": {},
   "outputs": [],
   "source": [
    "# menentukan input dan output\n",
    "X = tf.placeholder(tf.float32, shape=(None, n_inputs), name=\"X\")\n",
    "y = tf.placeholder(tf.int32, name=\"y\")"
   ]
  },
  {
   "cell_type": "code",
   "execution_count": 4,
   "metadata": {},
   "outputs": [],
   "source": [
    "# dnn atau hidden layer\n",
    "with tf.name_scope(\"dnn\"):\n",
    "    hidden1 = tf.layers.dense(X, n_hidden1, name=\"hidden1\", activation=tf.nn.relu, reuse=tf.AUTO_REUSE)\n",
    "    hidden2 = tf.layers.dense(hidden1, n_hidden2, name=\"hidden2\", activation=tf.nn.relu, reuse=tf.AUTO_REUSE)\n",
    "    \n",
    "    logits = tf.layers.dense(hidden2, n_outputs, name=\"outputs\", reuse=tf.AUTO_REUSE)\n",
    "    y_proba = tf.nn.softmax(logits)"
   ]
  },
  {
   "cell_type": "code",
   "execution_count": 5,
   "metadata": {},
   "outputs": [],
   "source": [
    "# cost funtion cross entropy\n",
    "with tf.name_scope(\"loss\"):\n",
    "    xentropy = tf.nn.sparse_softmax_cross_entropy_with_logits(labels=y, logits=logits)\n",
    "    loss = tf.reduce_mean(xentropy, name=\"loss\")\n",
    "    loss_summary = tf.summary.scalar('log_loss', loss)"
   ]
  },
  {
   "cell_type": "code",
   "execution_count": 6,
   "metadata": {},
   "outputs": [],
   "source": [
    "# training optimizer\n",
    "with tf.name_scope(\"train\"):\n",
    "    optimizer = tf.train.GradientDescentOptimizer(learning_rate=0.01)\n",
    "    training_op = optimizer.minimize(loss)"
   ]
  },
  {
   "cell_type": "code",
   "execution_count": 7,
   "metadata": {},
   "outputs": [],
   "source": [
    "# fungsi eval\n",
    "with tf.name_scope(\"eval\"):\n",
    "    correct = tf.nn.in_top_k(logits, y, 1)\n",
    "    accuracy = tf.reduce_mean(tf.cast(correct, tf.float32))\n",
    "    accuracy_summary = tf.summary.scalar('accuracy', accuracy)"
   ]
  },
  {
   "cell_type": "code",
   "execution_count": 8,
   "metadata": {},
   "outputs": [],
   "source": [
    "# initialize semua variable\n",
    "init = tf.global_variables_initializer()\n",
    "\n",
    "# saver\n",
    "saver = tf.train.Saver()"
   ]
  },
  {
   "cell_type": "code",
   "execution_count": 9,
   "metadata": {},
   "outputs": [],
   "source": [
    "import numpy as np\n",
    "\n",
    "(X_train, y_train), (X_test, y_test) = tf.keras.datasets.mnist.load_data()\n",
    "X_train = X_train.astype(np.float32).reshape(-1, 28*28) / 255.0\n",
    "X_test = X_test.astype(np.float32).reshape(-1, 28*28) / 255.0\n",
    "y_train = y_train.astype(np.int32)\n",
    "y_test = y_test.astype(np.int32)\n",
    "X_valid, X_train = X_train[:5000], X_train[5000:]\n",
    "y_valid, y_train = y_train[:5000], y_train[5000:]"
   ]
  },
  {
   "cell_type": "code",
   "execution_count": 10,
   "metadata": {},
   "outputs": [],
   "source": [
    "def shuffle_batch(X, y, batch_size):\n",
    "    rnd_idx = np.random.permutation(len(X))\n",
    "    n_batches = len(X)\n",
    "    for batch_idx in np.array_split(rnd_idx, n_batches):\n",
    "        X_batch, y_batch = X[batch_idx], y[batch_idx]\n",
    "        yield X_batch, y_batch"
   ]
  },
  {
   "cell_type": "code",
   "execution_count": 11,
   "metadata": {},
   "outputs": [
    {
     "name": "stdout",
     "output_type": "stream",
     "text": [
      "0 Batch accuracy: 1.0 Validation accuracy: 0.9644\n",
      "1 Batch accuracy: 1.0 Validation accuracy: 0.979\n",
      "2 Batch accuracy: 1.0 Validation accuracy: 0.9768\n",
      "3 Batch accuracy: 1.0 Validation accuracy: 0.9766\n",
      "4 Batch accuracy: 1.0 Validation accuracy: 0.9776\n",
      "5 Batch accuracy: 1.0 Validation accuracy: 0.9744\n",
      "6 Batch accuracy: 1.0 Validation accuracy: 0.9812\n",
      "7 Batch accuracy: 1.0 Validation accuracy: 0.9804\n",
      "8 Batch accuracy: 1.0 Validation accuracy: 0.9776\n",
      "9 Batch accuracy: 1.0 Validation accuracy: 0.9824\n",
      "10 Batch accuracy: 1.0 Validation accuracy: 0.9768\n",
      "11 Batch accuracy: 1.0 Validation accuracy: 0.9784\n",
      "12 Batch accuracy: 1.0 Validation accuracy: 0.984\n",
      "13 Batch accuracy: 1.0 Validation accuracy: 0.9812\n",
      "14 Batch accuracy: 1.0 Validation accuracy: 0.985\n",
      "15 Batch accuracy: 1.0 Validation accuracy: 0.9822\n",
      "16 Batch accuracy: 1.0 Validation accuracy: 0.9822\n",
      "17 Batch accuracy: 1.0 Validation accuracy: 0.9834\n",
      "18 Batch accuracy: 1.0 Validation accuracy: 0.983\n",
      "19 Batch accuracy: 1.0 Validation accuracy: 0.9858\n"
     ]
    }
   ],
   "source": [
    "# training\n",
    "n_epochs = 20\n",
    "n_batches = 50\n",
    "\n",
    "with tf.Session() as sess:\n",
    "    init.run()\n",
    "    for epoch in range(n_epochs):\n",
    "        for X_batch, y_batch in shuffle_batch(X_train, y_train, n_batches):\n",
    "            sess.run(training_op, feed_dict={X: X_batch, y:y_batch})\n",
    "        acc_batch = accuracy.eval(feed_dict={X: X_batch, y:y_batch})\n",
    "        acc_valid = accuracy.eval(feed_dict={X: X_valid, y:y_valid})\n",
    "        print(epoch, \"Batch accuracy:\", acc_batch, \"Validation accuracy:\", acc_valid)\n",
    "        \n",
    "    save_path = saver.save(sess, './my_model.ckpt')"
   ]
  },
  {
   "cell_type": "code",
   "execution_count": 17,
   "metadata": {},
   "outputs": [
    {
     "name": "stdout",
     "output_type": "stream",
     "text": [
      "INFO:tensorflow:Restoring parameters from ./my_model.ckpt\n"
     ]
    }
   ],
   "source": [
    "# test\n",
    "model_path = './my_model.ckpt'\n",
    "\n",
    "with tf.Session() as sess:\n",
    "    saver.restore(sess, model_path)\n",
    "    accuracy_test = accuracy.eval(feed_dict={X: X_test, y: y_test})"
   ]
  },
  {
   "cell_type": "code",
   "execution_count": 18,
   "metadata": {},
   "outputs": [
    {
     "data": {
      "text/plain": [
       "0.9824"
      ]
     },
     "execution_count": 18,
     "metadata": {},
     "output_type": "execute_result"
    }
   ],
   "source": [
    "accuracy_test"
   ]
  },
  {
   "cell_type": "code",
   "execution_count": null,
   "metadata": {},
   "outputs": [],
   "source": []
  }
 ],
 "metadata": {
  "kernelspec": {
   "display_name": "Python 3",
   "language": "python",
   "name": "python3"
  },
  "language_info": {
   "codemirror_mode": {
    "name": "ipython",
    "version": 3
   },
   "file_extension": ".py",
   "mimetype": "text/x-python",
   "name": "python",
   "nbconvert_exporter": "python",
   "pygments_lexer": "ipython3",
   "version": "3.6.7"
  }
 },
 "nbformat": 4,
 "nbformat_minor": 2
}
