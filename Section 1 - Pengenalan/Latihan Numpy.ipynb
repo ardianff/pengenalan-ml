{
 "cells": [
  {
   "cell_type": "code",
   "execution_count": 1,
   "metadata": {},
   "outputs": [],
   "source": [
    "import numpy as np"
   ]
  },
  {
   "cell_type": "code",
   "execution_count": 3,
   "metadata": {},
   "outputs": [
    {
     "name": "stdout",
     "output_type": "stream",
     "text": [
      "<class 'list'>\n",
      "<class 'numpy.ndarray'>\n",
      "(3,)\n",
      "[1 2 3]\n"
     ]
    }
   ],
   "source": [
    "# membuat array dengan numpy\n",
    "mylist = [1, 2, 3]\n",
    "myarray = np.array(mylist)\n",
    "print(type(mylist))\n",
    "print(type(myarray))\n",
    "print(myarray.shape)\n",
    "print(myarray)"
   ]
  },
  {
   "cell_type": "code",
   "execution_count": 4,
   "metadata": {},
   "outputs": [
    {
     "name": "stdout",
     "output_type": "stream",
     "text": [
      "[[1 2 3]\n",
      " [4 5 6]]\n",
      "(2, 3)\n"
     ]
    }
   ],
   "source": [
    "# access data pada numpy array\n",
    "mylist = [[1, 2, 3], [4, 5, 6]]\n",
    "myarray = np.array(mylist)\n",
    "\n",
    "print(myarray)\n",
    "print(myarray.shape)"
   ]
  },
  {
   "cell_type": "code",
   "execution_count": 6,
   "metadata": {},
   "outputs": [
    {
     "name": "stdout",
     "output_type": "stream",
     "text": [
      "Baris pertama: [1 2 3]\n",
      "Baris terakhir: [4 5 6]\n"
     ]
    }
   ],
   "source": [
    "print(\"Baris pertama:\", myarray[0])\n",
    "print(\"Baris terakhir:\", myarray[-1])"
   ]
  },
  {
   "cell_type": "code",
   "execution_count": 7,
   "metadata": {},
   "outputs": [
    {
     "name": "stdout",
     "output_type": "stream",
     "text": [
      "Baris pertama kolom ketiga: 3\n"
     ]
    }
   ],
   "source": [
    "print(\"Baris pertama kolom ketiga:\", myarray[0][2])"
   ]
  },
  {
   "cell_type": "code",
   "execution_count": 8,
   "metadata": {},
   "outputs": [
    {
     "name": "stdout",
     "output_type": "stream",
     "text": [
      "Hasilnya: [3 6]\n"
     ]
    }
   ],
   "source": [
    "print(\"Hasilnya:\", myarray[:, 2])"
   ]
  },
  {
   "cell_type": "code",
   "execution_count": 10,
   "metadata": {},
   "outputs": [
    {
     "name": "stdout",
     "output_type": "stream",
     "text": [
      "Perjumlahan array: [5 5 5]\n",
      "Perkalian array: [6 6 6]\n"
     ]
    }
   ],
   "source": [
    "# operasi aritmatik pada numpy array\n",
    "myarray1 = np.array([2, 2, 2])\n",
    "myarray2 = np.array([3, 3, 3])\n",
    "\n",
    "print(\"Perjumlahan array:\", myarray1 + myarray2)\n",
    "print(\"Perkalian array:\", myarray1 * myarray2)"
   ]
  },
  {
   "cell_type": "code",
   "execution_count": null,
   "metadata": {},
   "outputs": [],
   "source": []
  }
 ],
 "metadata": {
  "kernelspec": {
   "display_name": "Python 3",
   "language": "python",
   "name": "python3"
  },
  "language_info": {
   "codemirror_mode": {
    "name": "ipython",
    "version": 3
   },
   "file_extension": ".py",
   "mimetype": "text/x-python",
   "name": "python",
   "nbconvert_exporter": "python",
   "pygments_lexer": "ipython3",
   "version": "3.7.1"
  }
 },
 "nbformat": 4,
 "nbformat_minor": 2
}
