{
 "cells": [
  {
   "cell_type": "markdown",
   "metadata": {},
   "source": [
    "# Load Dataset"
   ]
  },
  {
   "cell_type": "code",
   "execution_count": 2,
   "metadata": {},
   "outputs": [
    {
     "name": "stdout",
     "output_type": "stream",
     "text": [
      "tipe data text_train: <class 'list'>\n",
      "panjang data text_train: 25000\n",
      "data pertama text_train: b'Words can\\'t describe how bad this movie is. I can\\'t explain it by writing only. You have too see it for yourself to get at grip of how horrible a movie really can be. Not that I recommend you to do that. There are so many clich\\xc3\\xa9s, mistakes (and all other negative things you can imagine) here that will just make you cry. To start with the technical first, there are a LOT of mistakes regarding the airplane. I won\\'t list them here, but just mention the coloring of the plane. They didn\\'t even manage to show an airliner in the colors of a fictional airline, but instead used a 747 painted in the original Boeing livery. Very bad. The plot is stupid and has been done many times before, only much, much better. There are so many ridiculous moments here that i lost count of it really early. Also, I was on the bad guys\\' side all the time in the movie, because the good guys were so stupid. \"Executive Decision\" should without a doubt be you\\'re choice over this one, even the \"Turbulence\"-movies are better. In fact, every other movie in the world is better than this one.'\n",
      "tipe data text_test: <class 'list'>\n",
      "panjang data text_test: 25000\n",
      "jumlah sample tiap kelas untuk data testing: [12500 12500]\n",
      "data pertama text_test: b'I don\\'t know how this movie has received so many positive comments. One can call it \"artistic\" and \"beautifully filmed\", but those things don\\'t make up for the empty plot that was filled with sexual innuendos. I wish I had not wasted my time to watch this movie. Rather than being biographical, it was a poor excuse for promoting strange and lewd behavior. It was just another Hollywood attempt to convince us that that kind of life is normal and OK. From the very beginning I asked my self what was the point of this movie,and I continued watching, hoping that it would change and was quite disappointed that it continued in the same vein. I am so glad I did not spend the money to see this in a theater!'\n"
     ]
    }
   ],
   "source": [
    "from sklearn.datasets import load_files\n",
    "import numpy as np\n",
    "\n",
    "# data train\n",
    "reviews_train = load_files(\"data/aclImdb/train/\")\n",
    "text_train, y_train = reviews_train.data, reviews_train.target\n",
    "\n",
    "print(\"tipe data text_train: {}\".format(type(text_train)))\n",
    "print(\"panjang data text_train: {}\".format(len(text_train)))\n",
    "print(\"data pertama text_train: {}\".format(text_train[1]))\n",
    "\n",
    "# data test\n",
    "reviews_test = load_files(\"data/aclImdb/test/\")\n",
    "text_test, y_test = reviews_test.data, reviews_test.target\n",
    "\n",
    "print(\"tipe data text_test: {}\".format(type(text_test)))\n",
    "print(\"panjang data text_test: {}\".format(len(text_test)))\n",
    "print(\"jumlah sample tiap kelas untuk data testing: {}\".format(np.bincount(y_test)))\n",
    "print(\"data pertama text_test: {}\".format(text_test[1]))"
   ]
  },
  {
   "cell_type": "markdown",
   "metadata": {},
   "source": [
    "# Preprocessing"
   ]
  },
  {
   "cell_type": "code",
   "execution_count": 3,
   "metadata": {},
   "outputs": [],
   "source": [
    "import re\n",
    "\n",
    "REPLACE_TANPA_SPACE = re.compile(\"[.;:!\\'?,\\\"()\\[\\]]\")\n",
    "REPLACE_DENGAN_SPACE = re.compile(\"(<br\\s*/><br\\s*/>)|(\\-)|(\\/)\")\n",
    "\n",
    "def preprocess_reviews(reviews):\n",
    "    reviews = [REPLACE_TANPA_SPACE.sub(\"\", line.decode('utf-8').lower()) for line in reviews]\n",
    "    reviews = [REPLACE_DENGAN_SPACE.sub(\" \", line) for line in reviews]\n",
    "    \n",
    "    return reviews\n",
    "\n",
    "text_train = preprocess_reviews(text_train)\n",
    "text_test = preprocess_reviews(text_test)"
   ]
  },
  {
   "cell_type": "code",
   "execution_count": 4,
   "metadata": {},
   "outputs": [],
   "source": [
    "# transform ke bag of words\n",
    "from sklearn.feature_extraction.text import CountVectorizer\n",
    "\n",
    "vect = CountVectorizer(max_features=1000, max_df=15)\n",
    "X = vect.fit_transform(text_train)"
   ]
  },
  {
   "cell_type": "markdown",
   "metadata": {},
   "source": [
    "# Latent Diricihlet Allocation"
   ]
  },
  {
   "cell_type": "code",
   "execution_count": 6,
   "metadata": {},
   "outputs": [],
   "source": [
    "from sklearn.decomposition import LatentDirichletAllocation\n",
    "\n",
    "lda = LatentDirichletAllocation(n_components=10, learning_method=\"batch\",\n",
    "                                max_iter=25, random_state=30)\n",
    "\n",
    "document_topics = lda.fit_transform(X)"
   ]
  },
  {
   "cell_type": "code",
   "execution_count": 7,
   "metadata": {},
   "outputs": [
    {
     "data": {
      "text/plain": [
       "(10, 1000)"
      ]
     },
     "execution_count": 7,
     "metadata": {},
     "output_type": "execute_result"
    }
   ],
   "source": [
    "lda.components_.shape"
   ]
  },
  {
   "cell_type": "code",
   "execution_count": 8,
   "metadata": {},
   "outputs": [],
   "source": [
    "# sorting\n",
    "sorting = np.argsort(lda.components_, axis=1)[:, ::-1]\n",
    "\n",
    "# get feature names\n",
    "feature_names = np.array(vect.get_feature_names())"
   ]
  },
  {
   "cell_type": "code",
   "execution_count": 10,
   "metadata": {},
   "outputs": [],
   "source": [
    "# plot\n",
    "import mglearn"
   ]
  },
  {
   "cell_type": "code",
   "execution_count": 11,
   "metadata": {},
   "outputs": [
    {
     "name": "stdout",
     "output_type": "stream",
     "text": [
      "topic 0       topic 1       topic 2       topic 3       topic 4       \n",
      "--------      --------      --------      --------      --------      \n",
      "chiba         creasy        gamera        shin          myrtle        \n",
      "cena          sarne         dillinger     gannon        jigsaw        \n",
      "hanzo         deathstalker  scarecrows    paperhouse    kornbluth     \n",
      "pia           pita          mabel         vivah         darius        \n",
      "abu           victorias     dahmer        mj            aztec         \n",
      "aweigh        batwoman      harilal       tremors       dominick      \n",
      "taker         lamas         della         chairman      carface       \n",
      "benoit        cortez        floriane      baseketball   caruso        \n",
      "ahmad         wai           durbin        nell          delia         \n",
      "munchies      waqt          morgana       ae            barman        \n",
      "\n",
      "\n",
      "topic 5       topic 6       topic 7       topic 8       topic 9       \n",
      "--------      --------      --------      --------      --------      \n",
      "macarthur     laputa        tashan        blandings     gypo          \n",
      "zizek         rosenstrasse  artemisia     kells         flavia        \n",
      "azumi         beetle        pavarotti     giovanna      ogre          \n",
      "cruella       lombard       kusturica     ossessione    carlito       \n",
      "marquis       darkman       flamenco      sammi         bathsheba     \n",
      "pows          offside       shaq          noam          ripley        \n",
      "hickock       sheeta        lordi         aviv          maclean       \n",
      "comet         marjorie      wolfman       ashraf        guiness       \n",
      "ranma         pimlico       iris          goldsworthys  mordrid       \n",
      "dev           newcombe      eustache      grams         trent         \n",
      "\n",
      "\n"
     ]
    }
   ],
   "source": [
    "mglearn.tools.print_topics(topics=range(10), feature_names=feature_names,\n",
    "                           sorting=sorting, topics_per_chunk=5, n_words=10)"
   ]
  },
  {
   "cell_type": "code",
   "execution_count": 14,
   "metadata": {},
   "outputs": [],
   "source": [
    "# 100 topics\n",
    "lda100 = LatentDirichletAllocation(n_components=100, learning_method=\"batch\",\n",
    "                                   max_iter=25, random_state=30)\n",
    "document_topics100 = lda100.fit_transform(X)"
   ]
  },
  {
   "cell_type": "code",
   "execution_count": 18,
   "metadata": {},
   "outputs": [
    {
     "name": "stdout",
     "output_type": "stream",
     "text": [
      "topic 10      topic 15      topic 20      topic 25      topic 30      topic 35      topic 40      \n",
      "--------      --------      --------      --------      --------      --------      --------      \n",
      "floriane      kali          taker         flamenco      dahmer        jed           kornbluth     \n",
      "renoir        heaton        benoit        fencing       cortez        doolittle     baseketball   \n",
      "orca          reloaded      booker        culp          beta          chikatilo     mordrid       \n",
      "whales        jackies       marjorie      jud           delon         wargames      gandalf       \n",
      "iago          ming          cena          moby          kattan        lamb          zucker        \n",
      "oberon        gamers        brock         saura         prague        barrett       bikers        \n",
      "desdemona     mona          bubba         calf          stifler       mammoth       pitcher       \n",
      "iphigenia     livingston    colonies      swashbuckling silverstone   aweigh        aragorn       \n",
      "ra            scheider      ppv           rachels       crossbow      tigers        hobbits       \n",
      "madame        purgatory     jericho       ducks         garbos        bureaucracy   tigers        \n",
      "achilles      yang          rvd           gabe          carnosaur     sloth         elitist       \n",
      "anastasia     inferno       guerrero      gabby         pyramid       hopping       frodo         \n",
      "reincarnated  footlight     dashed        fortress      calf          jeanette      frechette     \n",
      "mummys        fullers       breathtakinglyfullers       seventeen     probation     squire        \n",
      "luciano       frustrations  hogan         frustrations  nic           homosexuals   typed         \n",
      "trojan        frosty        mat           frosty        gojoe         nat           seventeen     \n",
      "flora         fey           challenger    frodo         gracie        pendleton     shearer       \n",
      "firemen       fez           wolverine     gaelic        frosty        gotham        tavern        \n",
      "frustrations  fineman       tilt          freeway       gotham        molested      freeway       \n",
      "frosty        frodo         gaelic        freemans      frodo         lau           gabe          \n",
      "\n",
      "\n",
      "topic 45      topic 50      topic 55      topic 60      topic 65      topic 70      topic 75      \n",
      "--------      --------      --------      --------      --------      --------      --------      \n",
      "turturro      wai           pavarotti     stevenson     lupino        jigsaw        macarthur     \n",
      "grable        pang          hackenstein   mcbain        erica         delia         sherman       \n",
      "henrys        hagar         achilles      lincolns      bullock       borg          macarthurs    \n",
      "cromwell      barbarians    zentropa      coonskin      axel          trancers      finlay        \n",
      "goauld        homely        hee           saget         molina        antichrist    ullman        \n",
      "maggots       colleges      kennel        docs          syrup         streetcar     batista       \n",
      "zuniga        voluptuous    gunslinger    famine        utilize       emory         helms         \n",
      "clarkson      tavern        rawal         lolita        sylvester     janeway       shen          \n",
      "hardware      yuma          herbie        pulitzer      stagecoach    strauss       serpent       \n",
      "carlisle      bees          implausibilitycandice       koo           inferno       hopping       \n",
      "demolition    frustrations  jox           lugosis       frustrations  tibetan       inferno       \n",
      "avalon        frosty        curtiz        terri         fullers       campfire      yang          \n",
      "ra            frodo         priyadarshan  youssef       fortress      trojan        mercury       \n",
      "obtaining     freeway       docs          stagecoach    gabby         fullers       squire        \n",
      "frodo         freemans      stacey        999           gabe          gabby         reincarnated  \n",
      "gram          gram          flavia        linking       gaelic        frustrations  bombers       \n",
      "footlight     frechette     fortress      moll          frosty        frosty        scholars      \n",
      "freeway       fortress      gabby         frosty        frodo         gabe          frechette     \n",
      "freemans      footlight     fullers       frodo         freeway       frodo         fortress      \n",
      "frosty        foo           frustrations  gabby         gale          gaelic        footlight     \n",
      "\n",
      "\n",
      "topic 80      topic 85      topic 90      topic 95      \n",
      "--------      --------      --------      --------      \n",
      "darius        zizek         deathstalker  pasolini      \n",
      "grams         crater        shemp         hazel         \n",
      "gram          zizeks        yakuza        durante       \n",
      "mraovich      hanson        abby          dinocroc      \n",
      "knoxville     publisher     gabe          morty         \n",
      "fineman       hoodlums      tia           hickok        \n",
      "soundtracks   perverts      gigi          cowgirls      \n",
      "lulu          vacuum        macaulay      kor           \n",
      "dome          waltz         gunner        prairie       \n",
      "bender        claymation    lapd          piscopo       \n",
      "syrup         evangelical   homers        subtitle      \n",
      "noodle        sermon        kiki          skating       \n",
      "hendrix       foo           goon          sht           \n",
      "gabby         footlight     barbarians    awesomely     \n",
      "frechette     zuniga        hewlett       scholars      \n",
      "frustrations  fortress      olen          chimps        \n",
      "frosty        frechette     kitten        toughness     \n",
      "frodo         flynns        fullers       rowan         \n",
      "gabe          freeway       gabby         flora         \n",
      "gaelic        frodo         frosty        freemans      \n",
      "\n",
      "\n"
     ]
    }
   ],
   "source": [
    "topics = np.array([10, 15, 20, 25, 30, 35, 40, 45, 50, 55, 60, 65, 70, 75, 80, 85, 90, 95])\n",
    "\n",
    "sorting = np.argsort(lda100.components_, axis=1)[:, ::-1]\n",
    "feature_names = np.array(vect.get_feature_names())\n",
    "\n",
    "mglearn.tools.print_topics(topics=topics, feature_names=feature_names,\n",
    "                           sorting=sorting, topics_per_chunk=7, n_words=20)"
   ]
  },
  {
   "cell_type": "code",
   "execution_count": 28,
   "metadata": {},
   "outputs": [
    {
     "name": "stdout",
     "output_type": "stream",
     "text": [
      "i just saw behind bedroom doors and this was the first softcore flick with a solid story behind it that ive seen in a while we begin with two neighborly couples  vivian and james fenway julia kruis and eric carrington and lillian and gabe harris nicole sheridan and chris gustafson vivian appears to be a housewife james is a lawyer running for district attorney lillian works in real estate and gabe is a successful plastic surgeon got all that now lets get into it enter abby played beautifully by porn star chelsea blue shes renting the house across the street from the fenways and lives all by herself at the beginning of the movie james looks out his window and sees abby engaged in playtime with her girlfriend gigi played by prolific pornstress monique alexander and secretly begins to wonder what it would be like to be with her the next day abby gets acquainted with all four of them and appears to be a nice woman who just happens to be living an alternative lifestyle she makes a pass at vivian who seems startled and says to her ohimnot that way everything seems okayuntil the plan gets set in motion first abby shows up at gabes office naked asking gabe if she should get a boob job this is where we get our quote of the movie tell me about gabe what do you want to know is gabe happily married im married theres troublelet me guess your wife stays at home and does everything you ask but shes a good girl yes shes not a bad girl no does that door have a lock on it you know what happens nextabby gets it on with gabe right there in the exam room after that she puts on a little show in her window for james who comes over and wastes no time in having sex with her what james doesnt know is that the teddy bear on the piano with the flashing red eye is really a camera taping all the festivities its so obvious anyway abby has sex with gabe again later and this time gigi joins in to make it a three way now that abby has something on both men she requests $100000 from each in order to buy her silence not only could she ruin jamess run for office but she could destroy gabes practice while gabe and james wrestle with their guilt abby finds time to seduce lillian  who experimented with women in college that was a long time ago but you wouldnt know that seeing her in action with abby  she looked like an old pro while gigi goes along with the plan shes seems jealous of all the sex her girlfriend is having its only business abby says confessions and apologies are sure to follow as is some startling info on abbys true identity  it seems shes been doing the same thing to different men in many different places gabe and james use this info to fight back against abbys blackmail now on to the sex the sex scenes were pretty good and considering all the women involved in this film except for julia kruis have a lengthy porn background i wouldnt have expected anything less nicole sheridans four scenes were the best of the movie with the three way coming in a close second monique alexander only got naked once but she was a relatively minor character julia kruis was a major character and got naked the same number of times i suppose since she was surrounded by experienced hardcore pros she didnt have to have as many sex scenes to wrap up behind bedroom doors had a great storyline which enhanced the overall grade of the film i consider it tapeworthy women a  nicole sheridan was good in this film  better than her later offerings in fred olen rays comedies at least she can do drama somewhat chelsea blue was a scene stealer  she wasnt that bad as the antagonist id give her an a all by herself julia kruis was her usual self i wish monique alexander had more face time in this film though sex b solid very solid sex scenes nicole sheridans performances were almost hardcore quality chelsea blue looked good in her scenes too the two girl girl offerings werent scorching but they did warm up the screen story b+ i liked the dialogue and the main storyline chelsea blues performance was good for the genre and i was impressed with nicole sheridans turn at drama overall b this was a nice softcore flick im glad i was able to watch this one as i was pleasantly surprised if chelsea blue ever wanted to do more of these shed be welcome anytime that goes for nicole sheridan too  even though shes probably better at doing comedy i dont mind hardcore girls who can act doing softcore films.\n",
      "\n",
      "woosh",
      " man",
      " what can i say the opening scene maybe we see a bunch of mongoloid barbarians with bad make up jump off the walls of some ruins they sneak around and attack some dude with a scantily clothed captive girl the dude runs off the mongoloids follow him and one of them stays behind seemingly to rape the girl but instead he exposes one of her breasts and kidnaps her then the dude still on the run sees a horse and tries to steal it suddenly",
      " a blond god like looking hero with a bad wig appears saying thats my horse the mighty deathstalker just made his appearance the mongoloids arrive deathstalker kills all of them including the dude on the tunes of some rather inappropriate mexicanos western score this is supposed to be a swords & sorcery flick so whats with the arriba trompettos and then goes up to captive girl and exposes both her breasts he starts to rub them and captive girl seems to like it she starts liking her lips and caressing deathstalker just when they are about to get down to it this old dude appears interrupting what could have been the end of a perfect day for deathstalker and a possible perfect ending for a short film now tell me",
      " isnt that the point where either a feminist would angrily switch off the movie or any other male viewer would say this is going to be one hell of a good movie the plot is as simple as throwing a kitten from the balcony deathstalker must obtain the sword of justice and use it to steal the amulet of life and the chalice of magic from the evil sorcerer munkar aside from decapitations dismemberment random bloodshed retarded fist fights and embarrassing sword fights this film also contains a massive amount of tts & a$$ shots i initially wanted to add one extra point to this movie for each gratuitous shot of naked boobies i could count after 9 points not even halfway into the movie i had to give up counting it was distracting me from the rest of the movie and the rest of the movie was worth it totally crazy stuff check out this mutant cat worm like creature munkar has as a pet and which he feeds eyeballs and fingers and heres an interesting question what would you do if a man in a womans body would enter your bedroom and try to kill you with a knife the answer is simple you slap him around a bit take away the knife and then try to rape him then you discover that hes actually not a woman so you throw him out of your bed and tell him to leave your room it works out well i tell you deathstalker does it too and the deathstalker way is the right way deathstalker is a wonderful movie really as pointed out in other comments the villains are vile the women are delicious theres blood sex violence rape and tasty chicken theres a completely pointless tournament which just features a bunch of barbarians beating slashing and hacking the crap out of each other my favorite weapon used in that tournament was a giant wooden hammer used to beat a poor contender to bloody pulp and my favorite contender undoubtedly was that one brute with the warthog head reminiscent of the gamorrean guards from return of the jedi i wont reveal how the movie ends but just prepare to ravish in delight when i tell you a 4 way dismemberment is thrown into the movies climax and of course theres a wonderful display of ineptitude throughout the whole movie see a guy being dragged behind a horse over a dirt road and the next point of view shot shows him being dragged over grass no road see that awesome tattoo on the sorcerers head magically change sides within the same scene on shot has it on the left side of his head the other on the right well after all munkar is a magician its that or this movie was shot in an alternate universe where things like continuity simply dont exist as much as i enjoyed this and as much as i am looking forward to the other 3 installments in this series i do have enough shreds of decency left in me to not let this movie pass i am prepared though to give it the maximum amount of minimal points just so i could be able to deduct a couple of more points for the possibly inferior sequels to follow deathstalker might be a superbly fun trashy & sleazy conan rip off it also is an abominable movie.\n",
      "\n"
     ]
    }
   ],
   "source": [
    "topic90 = np.argsort(document_topics100[:, 90])[::-1]\n",
    "\n",
    "for i in topic90[:2]:\n",
    "    print(\".\".join(text_train[i].split(\".\")[:2]) + \".\\n\")"
   ]
  },
  {
   "cell_type": "code",
   "execution_count": null,
   "metadata": {},
   "outputs": [],
   "source": []
  }
 ],
 "metadata": {
  "kernelspec": {
   "display_name": "Python 3",
   "language": "python",
   "name": "python3"
  },
  "language_info": {
   "codemirror_mode": {
    "name": "ipython",
    "version": 3
   },
   "file_extension": ".py",
   "mimetype": "text/x-python",
   "name": "python",
   "nbconvert_exporter": "python",
   "pygments_lexer": "ipython3",
   "version": "3.6.7"
  }
 },
 "nbformat": 4,
 "nbformat_minor": 2
}
